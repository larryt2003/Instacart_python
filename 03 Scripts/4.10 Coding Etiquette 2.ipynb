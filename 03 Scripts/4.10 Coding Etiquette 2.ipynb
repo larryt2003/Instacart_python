{
 "cells": [
  {
   "cell_type": "markdown",
   "id": "3b0bf107",
   "metadata": {},
   "source": [
    "#Create a profiling variable based on age, income, certain goods in the “department_id” column, and number of dependents"
   ]
  },
  {
   "cell_type": "code",
   "execution_count": 1,
   "id": "4b9c5f47",
   "metadata": {},
   "outputs": [],
   "source": [
    "#0.1 importing Labraries\n",
    "import pandas as pd\n",
    "import numpy as pn \n",
    "import os\n",
    "import matplotlib.pyplot as plt\n",
    "import seaborn as sns\n",
    "import scipy"
   ]
  },
  {
   "cell_type": "code",
   "execution_count": 2,
   "id": "d7dc8ba1",
   "metadata": {},
   "outputs": [],
   "source": [
    "#Normal_activity_customer\n",
    "Normal_activity_customer = pd.read_pickle(os.path.join('C:\\\\Users\\\\bukola\\\\Desktop\\\\Lanre Comp\\\\Documents\\\\CF\\Instacart Basket Analysis\\\\02 Data','Normal_activity_customer.pkl'))"
   ]
  },
  {
   "cell_type": "code",
   "execution_count": 3,
   "id": "9c6176a3",
   "metadata": {},
   "outputs": [
    {
     "data": {
      "text/html": [
       "<div>\n",
       "<style scoped>\n",
       "    .dataframe tbody tr th:only-of-type {\n",
       "        vertical-align: middle;\n",
       "    }\n",
       "\n",
       "    .dataframe tbody tr th {\n",
       "        vertical-align: top;\n",
       "    }\n",
       "\n",
       "    .dataframe thead th {\n",
       "        text-align: right;\n",
       "    }\n",
       "</style>\n",
       "<table border=\"1\" class=\"dataframe\">\n",
       "  <thead>\n",
       "    <tr style=\"text-align: right;\">\n",
       "      <th></th>\n",
       "      <th>order_id</th>\n",
       "      <th>user_id</th>\n",
       "      <th>order_number</th>\n",
       "      <th>orders_day_of_week</th>\n",
       "      <th>order_hour_of_day</th>\n",
       "      <th>days_since_prior_order</th>\n",
       "      <th>product_id</th>\n",
       "      <th>add_to_cart_order</th>\n",
       "      <th>reordered</th>\n",
       "      <th>product_name</th>\n",
       "      <th>...</th>\n",
       "      <th>order_frequency_flag</th>\n",
       "      <th>gender</th>\n",
       "      <th>state</th>\n",
       "      <th>age</th>\n",
       "      <th>date_joined</th>\n",
       "      <th>num_of_dependants</th>\n",
       "      <th>family_status</th>\n",
       "      <th>income</th>\n",
       "      <th>region</th>\n",
       "      <th>exclusion_flag</th>\n",
       "    </tr>\n",
       "  </thead>\n",
       "  <tbody>\n",
       "    <tr>\n",
       "      <th>4</th>\n",
       "      <td>431534</td>\n",
       "      <td>1</td>\n",
       "      <td>5</td>\n",
       "      <td>4</td>\n",
       "      <td>15</td>\n",
       "      <td>28.0</td>\n",
       "      <td>196</td>\n",
       "      <td>1</td>\n",
       "      <td>1</td>\n",
       "      <td>Soda</td>\n",
       "      <td>...</td>\n",
       "      <td>Non-frequent customer</td>\n",
       "      <td>Female</td>\n",
       "      <td>Alabama</td>\n",
       "      <td>31</td>\n",
       "      <td>2/17/2019</td>\n",
       "      <td>3</td>\n",
       "      <td>married</td>\n",
       "      <td>40423</td>\n",
       "      <td>South</td>\n",
       "      <td>Normal_activity_customer</td>\n",
       "    </tr>\n",
       "    <tr>\n",
       "      <th>5</th>\n",
       "      <td>3367565</td>\n",
       "      <td>1</td>\n",
       "      <td>6</td>\n",
       "      <td>2</td>\n",
       "      <td>7</td>\n",
       "      <td>19.0</td>\n",
       "      <td>196</td>\n",
       "      <td>1</td>\n",
       "      <td>1</td>\n",
       "      <td>Soda</td>\n",
       "      <td>...</td>\n",
       "      <td>Non-frequent customer</td>\n",
       "      <td>Female</td>\n",
       "      <td>Alabama</td>\n",
       "      <td>31</td>\n",
       "      <td>2/17/2019</td>\n",
       "      <td>3</td>\n",
       "      <td>married</td>\n",
       "      <td>40423</td>\n",
       "      <td>South</td>\n",
       "      <td>Normal_activity_customer</td>\n",
       "    </tr>\n",
       "    <tr>\n",
       "      <th>6</th>\n",
       "      <td>550135</td>\n",
       "      <td>1</td>\n",
       "      <td>7</td>\n",
       "      <td>1</td>\n",
       "      <td>9</td>\n",
       "      <td>20.0</td>\n",
       "      <td>196</td>\n",
       "      <td>1</td>\n",
       "      <td>1</td>\n",
       "      <td>Soda</td>\n",
       "      <td>...</td>\n",
       "      <td>Non-frequent customer</td>\n",
       "      <td>Female</td>\n",
       "      <td>Alabama</td>\n",
       "      <td>31</td>\n",
       "      <td>2/17/2019</td>\n",
       "      <td>3</td>\n",
       "      <td>married</td>\n",
       "      <td>40423</td>\n",
       "      <td>South</td>\n",
       "      <td>Normal_activity_customer</td>\n",
       "    </tr>\n",
       "    <tr>\n",
       "      <th>7</th>\n",
       "      <td>3108588</td>\n",
       "      <td>1</td>\n",
       "      <td>8</td>\n",
       "      <td>1</td>\n",
       "      <td>14</td>\n",
       "      <td>14.0</td>\n",
       "      <td>196</td>\n",
       "      <td>2</td>\n",
       "      <td>1</td>\n",
       "      <td>Soda</td>\n",
       "      <td>...</td>\n",
       "      <td>Non-frequent customer</td>\n",
       "      <td>Female</td>\n",
       "      <td>Alabama</td>\n",
       "      <td>31</td>\n",
       "      <td>2/17/2019</td>\n",
       "      <td>3</td>\n",
       "      <td>married</td>\n",
       "      <td>40423</td>\n",
       "      <td>South</td>\n",
       "      <td>Normal_activity_customer</td>\n",
       "    </tr>\n",
       "    <tr>\n",
       "      <th>8</th>\n",
       "      <td>2295261</td>\n",
       "      <td>1</td>\n",
       "      <td>9</td>\n",
       "      <td>1</td>\n",
       "      <td>16</td>\n",
       "      <td>0.0</td>\n",
       "      <td>196</td>\n",
       "      <td>4</td>\n",
       "      <td>1</td>\n",
       "      <td>Soda</td>\n",
       "      <td>...</td>\n",
       "      <td>Non-frequent customer</td>\n",
       "      <td>Female</td>\n",
       "      <td>Alabama</td>\n",
       "      <td>31</td>\n",
       "      <td>2/17/2019</td>\n",
       "      <td>3</td>\n",
       "      <td>married</td>\n",
       "      <td>40423</td>\n",
       "      <td>South</td>\n",
       "      <td>Normal_activity_customer</td>\n",
       "    </tr>\n",
       "  </tbody>\n",
       "</table>\n",
       "<p>5 rows × 33 columns</p>\n",
       "</div>"
      ],
      "text/plain": [
       "   order_id  user_id  order_number  orders_day_of_week  order_hour_of_day  \\\n",
       "4    431534        1             5                   4                 15   \n",
       "5   3367565        1             6                   2                  7   \n",
       "6    550135        1             7                   1                  9   \n",
       "7   3108588        1             8                   1                 14   \n",
       "8   2295261        1             9                   1                 16   \n",
       "\n",
       "   days_since_prior_order  product_id  add_to_cart_order  reordered  \\\n",
       "4                    28.0         196                  1          1   \n",
       "5                    19.0         196                  1          1   \n",
       "6                    20.0         196                  1          1   \n",
       "7                    14.0         196                  2          1   \n",
       "8                     0.0         196                  4          1   \n",
       "\n",
       "  product_name  ...   order_frequency_flag  gender    state age date_joined  \\\n",
       "4         Soda  ...  Non-frequent customer  Female  Alabama  31   2/17/2019   \n",
       "5         Soda  ...  Non-frequent customer  Female  Alabama  31   2/17/2019   \n",
       "6         Soda  ...  Non-frequent customer  Female  Alabama  31   2/17/2019   \n",
       "7         Soda  ...  Non-frequent customer  Female  Alabama  31   2/17/2019   \n",
       "8         Soda  ...  Non-frequent customer  Female  Alabama  31   2/17/2019   \n",
       "\n",
       "  num_of_dependants family_status income  region            exclusion_flag  \n",
       "4                 3       married  40423   South  Normal_activity_customer  \n",
       "5                 3       married  40423   South  Normal_activity_customer  \n",
       "6                 3       married  40423   South  Normal_activity_customer  \n",
       "7                 3       married  40423   South  Normal_activity_customer  \n",
       "8                 3       married  40423   South  Normal_activity_customer  \n",
       "\n",
       "[5 rows x 33 columns]"
      ]
     },
     "execution_count": 3,
     "metadata": {},
     "output_type": "execute_result"
    }
   ],
   "source": [
    "Normal_activity_customer.head()"
   ]
  },
  {
   "cell_type": "code",
   "execution_count": 4,
   "id": "8e4e02d9",
   "metadata": {},
   "outputs": [
    {
     "data": {
      "text/plain": [
       "count    2.441572e+07\n",
       "mean     4.945730e+01\n",
       "std      1.848531e+01\n",
       "min      1.800000e+01\n",
       "25%      3.300000e+01\n",
       "50%      4.900000e+01\n",
       "75%      6.500000e+01\n",
       "max      8.100000e+01\n",
       "Name: age, dtype: float64"
      ]
     },
     "execution_count": 4,
     "metadata": {},
     "output_type": "execute_result"
    }
   ],
   "source": [
    "#Profilling age\n",
    "Normal_activity_customer['age'].describe()"
   ]
  },
  {
   "cell_type": "code",
   "execution_count": 5,
   "id": "946b8dcd",
   "metadata": {},
   "outputs": [
    {
     "data": {
      "text/html": [
       "<div>\n",
       "<style scoped>\n",
       "    .dataframe tbody tr th:only-of-type {\n",
       "        vertical-align: middle;\n",
       "    }\n",
       "\n",
       "    .dataframe tbody tr th {\n",
       "        vertical-align: top;\n",
       "    }\n",
       "\n",
       "    .dataframe thead tr th {\n",
       "        text-align: left;\n",
       "    }\n",
       "\n",
       "    .dataframe thead tr:last-of-type th {\n",
       "        text-align: right;\n",
       "    }\n",
       "</style>\n",
       "<table border=\"1\" class=\"dataframe\">\n",
       "  <thead>\n",
       "    <tr>\n",
       "      <th></th>\n",
       "      <th colspan=\"3\" halign=\"left\">age</th>\n",
       "    </tr>\n",
       "    <tr>\n",
       "      <th></th>\n",
       "      <th>mean</th>\n",
       "      <th>min</th>\n",
       "      <th>max</th>\n",
       "    </tr>\n",
       "    <tr>\n",
       "      <th>orders_day_of_week</th>\n",
       "      <th></th>\n",
       "      <th></th>\n",
       "      <th></th>\n",
       "    </tr>\n",
       "  </thead>\n",
       "  <tbody>\n",
       "    <tr>\n",
       "      <th>0</th>\n",
       "      <td>49.439330</td>\n",
       "      <td>18</td>\n",
       "      <td>81</td>\n",
       "    </tr>\n",
       "    <tr>\n",
       "      <th>1</th>\n",
       "      <td>49.336790</td>\n",
       "      <td>18</td>\n",
       "      <td>81</td>\n",
       "    </tr>\n",
       "    <tr>\n",
       "      <th>2</th>\n",
       "      <td>49.478848</td>\n",
       "      <td>18</td>\n",
       "      <td>81</td>\n",
       "    </tr>\n",
       "    <tr>\n",
       "      <th>3</th>\n",
       "      <td>49.556048</td>\n",
       "      <td>18</td>\n",
       "      <td>81</td>\n",
       "    </tr>\n",
       "    <tr>\n",
       "      <th>4</th>\n",
       "      <td>49.406627</td>\n",
       "      <td>18</td>\n",
       "      <td>81</td>\n",
       "    </tr>\n",
       "    <tr>\n",
       "      <th>5</th>\n",
       "      <td>49.444513</td>\n",
       "      <td>18</td>\n",
       "      <td>81</td>\n",
       "    </tr>\n",
       "    <tr>\n",
       "      <th>6</th>\n",
       "      <td>49.585636</td>\n",
       "      <td>18</td>\n",
       "      <td>81</td>\n",
       "    </tr>\n",
       "  </tbody>\n",
       "</table>\n",
       "</div>"
      ],
      "text/plain": [
       "                          age        \n",
       "                         mean min max\n",
       "orders_day_of_week                   \n",
       "0                   49.439330  18  81\n",
       "1                   49.336790  18  81\n",
       "2                   49.478848  18  81\n",
       "3                   49.556048  18  81\n",
       "4                   49.406627  18  81\n",
       "5                   49.444513  18  81\n",
       "6                   49.585636  18  81"
      ]
     },
     "execution_count": 5,
     "metadata": {},
     "output_type": "execute_result"
    }
   ],
   "source": [
    "Normal_activity_customer.groupby('orders_day_of_week').agg({'age': ['mean', 'min', 'max']})\n"
   ]
  },
  {
   "cell_type": "code",
   "execution_count": 6,
   "id": "d18bc3ef",
   "metadata": {},
   "outputs": [],
   "source": [
    "# creating Age_Groups (old adult)\n",
    "Normal_activity_customer.loc[Normal_activity_customer['age'] > 65, 'age_group'] = 'old adult'\n"
   ]
  },
  {
   "cell_type": "code",
   "execution_count": 7,
   "id": "d914159d",
   "metadata": {},
   "outputs": [],
   "source": [
    "# creating Age_Groups (middle Adult)\n",
    "Normal_activity_customer.loc[(Normal_activity_customer['age'] <= 65) & (Normal_activity_customer['age'] > 39), 'age_group'] = 'Middle adult'\n"
   ]
  },
  {
   "cell_type": "code",
   "execution_count": 8,
   "id": "fa28816a",
   "metadata": {},
   "outputs": [],
   "source": [
    "# creating Age_Groups (Young adult)\n",
    "Normal_activity_customer.loc[Normal_activity_customer['age'] <= 39, 'age_group'] = 'young adult'"
   ]
  },
  {
   "cell_type": "code",
   "execution_count": 9,
   "id": "1629a959",
   "metadata": {},
   "outputs": [
    {
     "data": {
      "text/plain": [
       "age_group\n",
       "Middle adult    9904058\n",
       "young adult     8419266\n",
       "old adult       6092397\n",
       "Name: count, dtype: int64"
      ]
     },
     "execution_count": 9,
     "metadata": {},
     "output_type": "execute_result"
    }
   ],
   "source": [
    "Normal_activity_customer['age_group'].value_counts(dropna = False)"
   ]
  },
  {
   "cell_type": "code",
   "execution_count": 10,
   "id": "481faf64",
   "metadata": {},
   "outputs": [
    {
     "data": {
      "text/plain": [
       "count    2.441572e+07\n",
       "mean     9.989493e+04\n",
       "std      4.333337e+04\n",
       "min      2.590300e+04\n",
       "25%      6.752200e+04\n",
       "50%      9.683600e+04\n",
       "75%      1.281600e+05\n",
       "max      5.939010e+05\n",
       "Name: income, dtype: float64"
      ]
     },
     "execution_count": 10,
     "metadata": {},
     "output_type": "execute_result"
    }
   ],
   "source": [
    "# Income profilling \n",
    "Normal_activity_customer['income'].describe()"
   ]
  },
  {
   "cell_type": "code",
   "execution_count": 11,
   "id": "fb47ee41",
   "metadata": {},
   "outputs": [
    {
     "data": {
      "text/html": [
       "<div>\n",
       "<style scoped>\n",
       "    .dataframe tbody tr th:only-of-type {\n",
       "        vertical-align: middle;\n",
       "    }\n",
       "\n",
       "    .dataframe tbody tr th {\n",
       "        vertical-align: top;\n",
       "    }\n",
       "\n",
       "    .dataframe thead tr th {\n",
       "        text-align: left;\n",
       "    }\n",
       "\n",
       "    .dataframe thead tr:last-of-type th {\n",
       "        text-align: right;\n",
       "    }\n",
       "</style>\n",
       "<table border=\"1\" class=\"dataframe\">\n",
       "  <thead>\n",
       "    <tr>\n",
       "      <th></th>\n",
       "      <th colspan=\"3\" halign=\"left\">income</th>\n",
       "    </tr>\n",
       "    <tr>\n",
       "      <th></th>\n",
       "      <th>mean</th>\n",
       "      <th>min</th>\n",
       "      <th>max</th>\n",
       "    </tr>\n",
       "    <tr>\n",
       "      <th>orders_day_of_week</th>\n",
       "      <th></th>\n",
       "      <th></th>\n",
       "      <th></th>\n",
       "    </tr>\n",
       "  </thead>\n",
       "  <tbody>\n",
       "    <tr>\n",
       "      <th>0</th>\n",
       "      <td>101230.163329</td>\n",
       "      <td>25941</td>\n",
       "      <td>593901</td>\n",
       "    </tr>\n",
       "    <tr>\n",
       "      <th>1</th>\n",
       "      <td>98607.035987</td>\n",
       "      <td>25937</td>\n",
       "      <td>593901</td>\n",
       "    </tr>\n",
       "    <tr>\n",
       "      <th>2</th>\n",
       "      <td>99167.073446</td>\n",
       "      <td>25903</td>\n",
       "      <td>593901</td>\n",
       "    </tr>\n",
       "    <tr>\n",
       "      <th>3</th>\n",
       "      <td>99599.889364</td>\n",
       "      <td>25937</td>\n",
       "      <td>593901</td>\n",
       "    </tr>\n",
       "    <tr>\n",
       "      <th>4</th>\n",
       "      <td>99661.950958</td>\n",
       "      <td>25903</td>\n",
       "      <td>593901</td>\n",
       "    </tr>\n",
       "    <tr>\n",
       "      <th>5</th>\n",
       "      <td>99304.099827</td>\n",
       "      <td>25941</td>\n",
       "      <td>593901</td>\n",
       "    </tr>\n",
       "    <tr>\n",
       "      <th>6</th>\n",
       "      <td>101417.629097</td>\n",
       "      <td>25903</td>\n",
       "      <td>592409</td>\n",
       "    </tr>\n",
       "  </tbody>\n",
       "</table>\n",
       "</div>"
      ],
      "text/plain": [
       "                           income               \n",
       "                             mean    min     max\n",
       "orders_day_of_week                              \n",
       "0                   101230.163329  25941  593901\n",
       "1                    98607.035987  25937  593901\n",
       "2                    99167.073446  25903  593901\n",
       "3                    99599.889364  25937  593901\n",
       "4                    99661.950958  25903  593901\n",
       "5                    99304.099827  25941  593901\n",
       "6                   101417.629097  25903  592409"
      ]
     },
     "execution_count": 11,
     "metadata": {},
     "output_type": "execute_result"
    }
   ],
   "source": [
    "# income aggregate \n",
    "Normal_activity_customer.groupby('orders_day_of_week').agg({'income': ['mean', 'min', 'max']})"
   ]
  },
  {
   "cell_type": "code",
   "execution_count": 12,
   "id": "9bc9aee4",
   "metadata": {},
   "outputs": [],
   "source": [
    "# income_distribution\n",
    "Normal_activity_customer.loc[Normal_activity_customer['income'] > 128160, 'income_distribution'] = 'high income'\n",
    "Normal_activity_customer.loc[(Normal_activity_customer['income'] <=128160) & (Normal_activity_customer['income'] > 67522), 'income_distribution'] = 'Middle income'\n",
    "Normal_activity_customer.loc[Normal_activity_customer['income'] <= 67522, 'income_distribution'] = 'low income'"
   ]
  },
  {
   "cell_type": "code",
   "execution_count": 13,
   "id": "a4236d80",
   "metadata": {},
   "outputs": [
    {
     "data": {
      "text/plain": [
       "income_distribution\n",
       "Middle income    12208041\n",
       "low income        6103954\n",
       "high income       6103726\n",
       "Name: count, dtype: int64"
      ]
     },
     "execution_count": 13,
     "metadata": {},
     "output_type": "execute_result"
    }
   ],
   "source": [
    "Normal_activity_customer['income_distribution'].value_counts(dropna = False)"
   ]
  },
  {
   "cell_type": "code",
   "execution_count": 14,
   "id": "16a7cde0",
   "metadata": {},
   "outputs": [
    {
     "data": {
      "text/plain": [
       "count    2.441572e+07\n",
       "mean     1.501997e+00\n",
       "std      1.119172e+00\n",
       "min      0.000000e+00\n",
       "25%      0.000000e+00\n",
       "50%      2.000000e+00\n",
       "75%      3.000000e+00\n",
       "max      3.000000e+00\n",
       "Name: num_of_dependants, dtype: float64"
      ]
     },
     "execution_count": 14,
     "metadata": {},
     "output_type": "execute_result"
    }
   ],
   "source": [
    "# depedant profilling \n",
    "Normal_activity_customer['num_of_dependants'].describe()"
   ]
  },
  {
   "cell_type": "code",
   "execution_count": 15,
   "id": "0670fb9d",
   "metadata": {},
   "outputs": [
    {
     "data": {
      "text/html": [
       "<div>\n",
       "<style scoped>\n",
       "    .dataframe tbody tr th:only-of-type {\n",
       "        vertical-align: middle;\n",
       "    }\n",
       "\n",
       "    .dataframe tbody tr th {\n",
       "        vertical-align: top;\n",
       "    }\n",
       "\n",
       "    .dataframe thead tr th {\n",
       "        text-align: left;\n",
       "    }\n",
       "\n",
       "    .dataframe thead tr:last-of-type th {\n",
       "        text-align: right;\n",
       "    }\n",
       "</style>\n",
       "<table border=\"1\" class=\"dataframe\">\n",
       "  <thead>\n",
       "    <tr>\n",
       "      <th></th>\n",
       "      <th colspan=\"3\" halign=\"left\">num_of_dependants</th>\n",
       "    </tr>\n",
       "    <tr>\n",
       "      <th></th>\n",
       "      <th>mean</th>\n",
       "      <th>min</th>\n",
       "      <th>max</th>\n",
       "    </tr>\n",
       "    <tr>\n",
       "      <th>family_status</th>\n",
       "      <th></th>\n",
       "      <th></th>\n",
       "      <th></th>\n",
       "    </tr>\n",
       "  </thead>\n",
       "  <tbody>\n",
       "    <tr>\n",
       "      <th>divorced/widowed</th>\n",
       "      <td>0.000000</td>\n",
       "      <td>0</td>\n",
       "      <td>0</td>\n",
       "    </tr>\n",
       "    <tr>\n",
       "      <th>living with parents and siblings</th>\n",
       "      <td>1.985641</td>\n",
       "      <td>1</td>\n",
       "      <td>3</td>\n",
       "    </tr>\n",
       "    <tr>\n",
       "      <th>married</th>\n",
       "      <td>2.003981</td>\n",
       "      <td>1</td>\n",
       "      <td>3</td>\n",
       "    </tr>\n",
       "    <tr>\n",
       "      <th>single</th>\n",
       "      <td>0.000000</td>\n",
       "      <td>0</td>\n",
       "      <td>0</td>\n",
       "    </tr>\n",
       "  </tbody>\n",
       "</table>\n",
       "</div>"
      ],
      "text/plain": [
       "                                 num_of_dependants        \n",
       "                                              mean min max\n",
       "family_status                                             \n",
       "divorced/widowed                          0.000000   0   0\n",
       "living with parents and siblings          1.985641   1   3\n",
       "married                                   2.003981   1   3\n",
       "single                                    0.000000   0   0"
      ]
     },
     "execution_count": 15,
     "metadata": {},
     "output_type": "execute_result"
    }
   ],
   "source": [
    "Normal_activity_customer.groupby('family_status').agg({'num_of_dependants': ['mean', 'min', 'max']})"
   ]
  },
  {
   "cell_type": "code",
   "execution_count": 16,
   "id": "0ed8fc6e",
   "metadata": {},
   "outputs": [],
   "source": [
    "# creating dependant Flag \n",
    "Normal_activity_customer.loc[Normal_activity_customer['num_of_dependants'] > 0, 'dependant_flag'] = 'has dependant'\n",
    "Normal_activity_customer.loc[Normal_activity_customer['num_of_dependants'] <= 0, 'dependant_flag'] = 'no dependant'"
   ]
  },
  {
   "cell_type": "code",
   "execution_count": 17,
   "id": "8657ab08",
   "metadata": {},
   "outputs": [
    {
     "data": {
      "text/plain": [
       "dependant_flag\n",
       "has dependant    18310464\n",
       "no dependant      6105257\n",
       "Name: count, dtype: int64"
      ]
     },
     "execution_count": 17,
     "metadata": {},
     "output_type": "execute_result"
    }
   ],
   "source": [
    "Normal_activity_customer['dependant_flag'].value_counts(dropna = False)"
   ]
  },
  {
   "cell_type": "code",
   "execution_count": 18,
   "id": "4e7e8006",
   "metadata": {},
   "outputs": [],
   "source": [
    "# creating Family profile \n",
    "Normal_activity_customer.loc[(Normal_activity_customer['family_status'].isin(['single','living with parents and siblings','divorced/widowed'])) & (Normal_activity_customer['dependant_flag'] == 'has dependant') & (Normal_activity_customer['gender'] == 'Male'), 'family_profile'] = 'single male has children'\n",
    "Normal_activity_customer.loc[(Normal_activity_customer['family_status'].isin(['single','living with parents and siblings','divorced/widowed'])) & (Normal_activity_customer['dependant_flag'] == 'has dependant') & (Normal_activity_customer['gender'] == 'Female'), 'family_profile'] = 'single female has children'\n",
    "Normal_activity_customer.loc[(Normal_activity_customer['family_status'].isin(['single','living with parents and siblings','divorced/widowed'])) & (Normal_activity_customer['dependant_flag'] == 'no dependant') & (Normal_activity_customer['gender'] == 'Male'), 'family_profile'] = 'single male no children'\n",
    "Normal_activity_customer.loc[(Normal_activity_customer['family_status'].isin(['single','living with parents and siblings','divorced/widowed'])) & (Normal_activity_customer['dependant_flag'] == 'no dependant') & (Normal_activity_customer['gender'] == 'Female'), 'family_profile'] = 'single female no children'\n",
    "Normal_activity_customer.loc[(Normal_activity_customer['family_status'] == 'married') & (Normal_activity_customer['dependant_flag'] == 'has dependant') & (Normal_activity_customer['gender'] == 'Male'), 'family_profile'] = 'married male with children'\n",
    "Normal_activity_customer.loc[(Normal_activity_customer['family_status'] == 'married') & (Normal_activity_customer['dependant_flag'] == 'no dependant') & (Normal_activity_customer['gender'] == 'Male'), 'family_profile'] = 'married male no children'\n",
    "Normal_activity_customer.loc[(Normal_activity_customer['family_status'] == 'married') & (Normal_activity_customer['dependant_flag'] == 'has dependant') & (Normal_activity_customer['gender'] == 'Female'), 'family_profile'] = 'married female with children'\n",
    "Normal_activity_customer.loc[(Normal_activity_customer['family_status'] == 'married') & (Normal_activity_customer['dependant_flag'] == 'no dependant') & (Normal_activity_customer['gender'] == 'Female'), 'family_profile'] = 'married female no children'"
   ]
  },
  {
   "cell_type": "code",
   "execution_count": 19,
   "id": "03a09d28",
   "metadata": {},
   "outputs": [
    {
     "data": {
      "text/plain": [
       "family_profile\n",
       "married male with children      8630773\n",
       "married female with children    8508261\n",
       "single male no children         3057190\n",
       "single female no children       3048067\n",
       "single male has children         599740\n",
       "single female has children       571690\n",
       "Name: count, dtype: int64"
      ]
     },
     "execution_count": 19,
     "metadata": {},
     "output_type": "execute_result"
    }
   ],
   "source": [
    "Normal_activity_customer['family_profile'].value_counts(dropna = False)"
   ]
  },
  {
   "cell_type": "code",
   "execution_count": 20,
   "id": "39e86c76",
   "metadata": {},
   "outputs": [],
   "source": [
    "df_dept = pd.read_csv(os.path.join('C:\\\\Users\\\\bukola\\\\Desktop\\\\Lanre Comp\\\\Documents\\\\CF\\\\Instacart Basket Analysis', '02 Data' , 'departments.csv'), index_col = False)"
   ]
  },
  {
   "cell_type": "code",
   "execution_count": 21,
   "id": "2bf1dc40",
   "metadata": {},
   "outputs": [
    {
     "data": {
      "text/html": [
       "<div>\n",
       "<style scoped>\n",
       "    .dataframe tbody tr th:only-of-type {\n",
       "        vertical-align: middle;\n",
       "    }\n",
       "\n",
       "    .dataframe tbody tr th {\n",
       "        vertical-align: top;\n",
       "    }\n",
       "\n",
       "    .dataframe thead th {\n",
       "        text-align: right;\n",
       "    }\n",
       "</style>\n",
       "<table border=\"1\" class=\"dataframe\">\n",
       "  <thead>\n",
       "    <tr style=\"text-align: right;\">\n",
       "      <th></th>\n",
       "      <th>0</th>\n",
       "    </tr>\n",
       "  </thead>\n",
       "  <tbody>\n",
       "    <tr>\n",
       "      <th>department_id</th>\n",
       "      <td>department</td>\n",
       "    </tr>\n",
       "    <tr>\n",
       "      <th>1</th>\n",
       "      <td>frozen</td>\n",
       "    </tr>\n",
       "    <tr>\n",
       "      <th>2</th>\n",
       "      <td>other</td>\n",
       "    </tr>\n",
       "    <tr>\n",
       "      <th>3</th>\n",
       "      <td>bakery</td>\n",
       "    </tr>\n",
       "    <tr>\n",
       "      <th>4</th>\n",
       "      <td>produce</td>\n",
       "    </tr>\n",
       "    <tr>\n",
       "      <th>5</th>\n",
       "      <td>alcohol</td>\n",
       "    </tr>\n",
       "    <tr>\n",
       "      <th>6</th>\n",
       "      <td>international</td>\n",
       "    </tr>\n",
       "    <tr>\n",
       "      <th>7</th>\n",
       "      <td>beverages</td>\n",
       "    </tr>\n",
       "    <tr>\n",
       "      <th>8</th>\n",
       "      <td>pets</td>\n",
       "    </tr>\n",
       "    <tr>\n",
       "      <th>9</th>\n",
       "      <td>dry goods pasta</td>\n",
       "    </tr>\n",
       "    <tr>\n",
       "      <th>10</th>\n",
       "      <td>bulk</td>\n",
       "    </tr>\n",
       "    <tr>\n",
       "      <th>11</th>\n",
       "      <td>personal care</td>\n",
       "    </tr>\n",
       "    <tr>\n",
       "      <th>12</th>\n",
       "      <td>meat seafood</td>\n",
       "    </tr>\n",
       "    <tr>\n",
       "      <th>13</th>\n",
       "      <td>pantry</td>\n",
       "    </tr>\n",
       "    <tr>\n",
       "      <th>14</th>\n",
       "      <td>breakfast</td>\n",
       "    </tr>\n",
       "    <tr>\n",
       "      <th>15</th>\n",
       "      <td>canned goods</td>\n",
       "    </tr>\n",
       "    <tr>\n",
       "      <th>16</th>\n",
       "      <td>dairy eggs</td>\n",
       "    </tr>\n",
       "    <tr>\n",
       "      <th>17</th>\n",
       "      <td>household</td>\n",
       "    </tr>\n",
       "    <tr>\n",
       "      <th>18</th>\n",
       "      <td>babies</td>\n",
       "    </tr>\n",
       "    <tr>\n",
       "      <th>19</th>\n",
       "      <td>snacks</td>\n",
       "    </tr>\n",
       "    <tr>\n",
       "      <th>20</th>\n",
       "      <td>deli</td>\n",
       "    </tr>\n",
       "    <tr>\n",
       "      <th>21</th>\n",
       "      <td>missing</td>\n",
       "    </tr>\n",
       "  </tbody>\n",
       "</table>\n",
       "</div>"
      ],
      "text/plain": [
       "                             0\n",
       "department_id       department\n",
       "1                       frozen\n",
       "2                        other\n",
       "3                       bakery\n",
       "4                      produce\n",
       "5                      alcohol\n",
       "6                international\n",
       "7                    beverages\n",
       "8                         pets\n",
       "9              dry goods pasta\n",
       "10                        bulk\n",
       "11               personal care\n",
       "12                meat seafood\n",
       "13                      pantry\n",
       "14                   breakfast\n",
       "15                canned goods\n",
       "16                  dairy eggs\n",
       "17                   household\n",
       "18                      babies\n",
       "19                      snacks\n",
       "20                        deli\n",
       "21                     missing"
      ]
     },
     "execution_count": 21,
     "metadata": {},
     "output_type": "execute_result"
    }
   ],
   "source": [
    "# transposing df_dep\n",
    "df_dept.T"
   ]
  },
  {
   "cell_type": "code",
   "execution_count": 22,
   "id": "c83d46d4",
   "metadata": {},
   "outputs": [],
   "source": [
    "# renaming the transose\n",
    "df_dep_t = df_dept.T"
   ]
  },
  {
   "cell_type": "code",
   "execution_count": 23,
   "id": "15951202",
   "metadata": {},
   "outputs": [],
   "source": [
    "new_header = df_dep_t.iloc[0]"
   ]
  },
  {
   "cell_type": "code",
   "execution_count": 24,
   "id": "0b486456",
   "metadata": {},
   "outputs": [],
   "source": [
    "df_dep_t_new = df_dep_t[1:]"
   ]
  },
  {
   "cell_type": "code",
   "execution_count": 25,
   "id": "5ffae5c3",
   "metadata": {},
   "outputs": [],
   "source": [
    "#set the hearder row as df header\n",
    "df_dep_t_new.columns = new_header"
   ]
  },
  {
   "cell_type": "code",
   "execution_count": 26,
   "id": "56405a16",
   "metadata": {},
   "outputs": [
    {
     "data": {
      "text/html": [
       "<div>\n",
       "<style scoped>\n",
       "    .dataframe tbody tr th:only-of-type {\n",
       "        vertical-align: middle;\n",
       "    }\n",
       "\n",
       "    .dataframe tbody tr th {\n",
       "        vertical-align: top;\n",
       "    }\n",
       "\n",
       "    .dataframe thead th {\n",
       "        text-align: right;\n",
       "    }\n",
       "</style>\n",
       "<table border=\"1\" class=\"dataframe\">\n",
       "  <thead>\n",
       "    <tr style=\"text-align: right;\">\n",
       "      <th>department_id</th>\n",
       "      <th>department</th>\n",
       "    </tr>\n",
       "  </thead>\n",
       "  <tbody>\n",
       "    <tr>\n",
       "      <th>1</th>\n",
       "      <td>frozen</td>\n",
       "    </tr>\n",
       "    <tr>\n",
       "      <th>2</th>\n",
       "      <td>other</td>\n",
       "    </tr>\n",
       "    <tr>\n",
       "      <th>3</th>\n",
       "      <td>bakery</td>\n",
       "    </tr>\n",
       "    <tr>\n",
       "      <th>4</th>\n",
       "      <td>produce</td>\n",
       "    </tr>\n",
       "    <tr>\n",
       "      <th>5</th>\n",
       "      <td>alcohol</td>\n",
       "    </tr>\n",
       "  </tbody>\n",
       "</table>\n",
       "</div>"
      ],
      "text/plain": [
       "department_id department\n",
       "1                 frozen\n",
       "2                  other\n",
       "3                 bakery\n",
       "4                produce\n",
       "5                alcohol"
      ]
     },
     "execution_count": 26,
     "metadata": {},
     "output_type": "execute_result"
    }
   ],
   "source": [
    "df_dep_t_new.head()"
   ]
  },
  {
   "cell_type": "code",
   "execution_count": 27,
   "id": "41421a7c",
   "metadata": {},
   "outputs": [],
   "source": [
    "Normal_activity_customer.to_pickle(os.path.join('C:\\\\Users\\\\bukola\\\\Desktop\\\\Lanre Comp\\\\Documents\\\\CF\\\\Instacart Basket Analysis', '02 Data' , 'Normal_activity_customer_final.pkl'))"
   ]
  },
  {
   "cell_type": "code",
   "execution_count": 28,
   "id": "8ff64b31",
   "metadata": {},
   "outputs": [],
   "source": [
    "#Creating a data dictionary of 'department_id' to facilitate profiling of clients\n",
    "data_dict = df_dep_t_new.to_dict('index')\n"
   ]
  },
  {
   "cell_type": "code",
   "execution_count": 29,
   "id": "be33e667",
   "metadata": {},
   "outputs": [
    {
     "data": {
      "text/plain": [
       "{'1': {'department': 'frozen'},\n",
       " '2': {'department': 'other'},\n",
       " '3': {'department': 'bakery'},\n",
       " '4': {'department': 'produce'},\n",
       " '5': {'department': 'alcohol'},\n",
       " '6': {'department': 'international'},\n",
       " '7': {'department': 'beverages'},\n",
       " '8': {'department': 'pets'},\n",
       " '9': {'department': 'dry goods pasta'},\n",
       " '10': {'department': 'bulk'},\n",
       " '11': {'department': 'personal care'},\n",
       " '12': {'department': 'meat seafood'},\n",
       " '13': {'department': 'pantry'},\n",
       " '14': {'department': 'breakfast'},\n",
       " '15': {'department': 'canned goods'},\n",
       " '16': {'department': 'dairy eggs'},\n",
       " '17': {'department': 'household'},\n",
       " '18': {'department': 'babies'},\n",
       " '19': {'department': 'snacks'},\n",
       " '20': {'department': 'deli'},\n",
       " '21': {'department': 'missing'}}"
      ]
     },
     "execution_count": 29,
     "metadata": {},
     "output_type": "execute_result"
    }
   ],
   "source": [
    "data_dict"
   ]
  },
  {
   "cell_type": "code",
   "execution_count": 30,
   "id": "dc5d0746",
   "metadata": {},
   "outputs": [],
   "source": [
    "#Creating a new column/variable department\n",
    "Normal_activity_customer.loc[Normal_activity_customer['department_id'] == 1, 'department'] = 'frozen'\n",
    "Normal_activity_customer.loc[Normal_activity_customer['department_id'] == 2, 'department'] = 'other'\n",
    "Normal_activity_customer.loc[Normal_activity_customer['department_id'] == 3, 'department'] = 'bakery'\n",
    "Normal_activity_customer.loc[Normal_activity_customer['department_id'] == 4, 'department'] = 'produce'\n",
    "Normal_activity_customer.loc[Normal_activity_customer['department_id'] == 5, 'department'] = 'alcohol'\n",
    "Normal_activity_customer.loc[Normal_activity_customer['department_id'] == 6, 'department'] = 'international'\n",
    "Normal_activity_customer.loc[Normal_activity_customer['department_id'] == 7, 'department'] = 'beverages'\n",
    "Normal_activity_customer.loc[Normal_activity_customer['department_id'] == 8, 'department'] = 'pets'\n",
    "Normal_activity_customer.loc[Normal_activity_customer['department_id'] == 9, 'department'] = 'dry goods pasta'\n",
    "Normal_activity_customer.loc[Normal_activity_customer['department_id'] == 10, 'department'] = 'bulk'\n",
    "Normal_activity_customer.loc[Normal_activity_customer['department_id'] == 11, 'department'] = 'personal care'\n",
    "Normal_activity_customer.loc[Normal_activity_customer['department_id'] == 12, 'department'] = 'meat seafood'\n",
    "Normal_activity_customer.loc[Normal_activity_customer['department_id'] == 13, 'department'] = 'pantry'\n",
    "Normal_activity_customer.loc[Normal_activity_customer['department_id'] == 14, 'department'] = 'breakfast'\n",
    "Normal_activity_customer.loc[Normal_activity_customer['department_id'] == 15, 'department'] = 'canned goods'\n",
    "Normal_activity_customer.loc[Normal_activity_customer['department_id'] == 16, 'department'] = 'dairy eggs'\n",
    "Normal_activity_customer.loc[Normal_activity_customer['department_id'] == 17, 'department'] = 'household'\n",
    "Normal_activity_customer.loc[Normal_activity_customer['department_id'] == 18, 'department'] = 'babies'\n",
    "Normal_activity_customer.loc[Normal_activity_customer['department_id'] == 19, 'department'] = 'snacks'\n",
    "Normal_activity_customer.loc[Normal_activity_customer['department_id'] == 20, 'department'] = 'deli'\n",
    "Normal_activity_customer.loc[Normal_activity_customer['department_id'] == 21, 'department'] = 'missing'\n"
   ]
  },
  {
   "cell_type": "code",
   "execution_count": 33,
   "id": "5273dbbd",
   "metadata": {},
   "outputs": [
    {
     "data": {
      "text/plain": [
       "(24415721, 38)"
      ]
     },
     "execution_count": 33,
     "metadata": {},
     "output_type": "execute_result"
    }
   ],
   "source": [
    "Normal_activity_customer.shape"
   ]
  },
  {
   "cell_type": "code",
   "execution_count": 34,
   "id": "421b60f5",
   "metadata": {},
   "outputs": [
    {
     "name": "stdout",
     "output_type": "stream",
     "text": [
      "<class 'pandas.core.frame.DataFrame'>\n",
      "Index: 24415721 entries, 4 to 32406036\n",
      "Data columns (total 38 columns):\n",
      " #   Column                         Dtype   \n",
      "---  ------                         -----   \n",
      " 0   order_id                       int64   \n",
      " 1   user_id                        int64   \n",
      " 2   order_number                   int64   \n",
      " 3   orders_day_of_week             int64   \n",
      " 4   order_hour_of_day              int64   \n",
      " 5   days_since_prior_order         float64 \n",
      " 6   product_id                     int64   \n",
      " 7   add_to_cart_order              int64   \n",
      " 8   reordered                      int64   \n",
      " 9   product_name                   object  \n",
      " 10  aisle_id                       int64   \n",
      " 11  department_id                  int64   \n",
      " 12  prices                         float64 \n",
      " 13  _merge                         category\n",
      " 14  price_range_loc                object  \n",
      " 15  Busiest day                    object  \n",
      " 16  Busiest days                   object  \n",
      " 17  busiest_period_of_day          object  \n",
      " 18  max_order                      int64   \n",
      " 19  loyalty_flag                   object  \n",
      " 20  mean_prices                    float64 \n",
      " 21  Spender_flag                   object  \n",
      " 22  median_days_since_prior_order  float64 \n",
      " 23  order_frequency_flag           object  \n",
      " 24  gender                         object  \n",
      " 25  state                          object  \n",
      " 26  age                            int64   \n",
      " 27  date_joined                    object  \n",
      " 28  num_of_dependants              int64   \n",
      " 29  family_status                  object  \n",
      " 30  income                         int64   \n",
      " 31  region                         object  \n",
      " 32  exclusion_flag                 object  \n",
      " 33  age_group                      object  \n",
      " 34  income_distribution            object  \n",
      " 35  dependant_flag                 object  \n",
      " 36  family_profile                 object  \n",
      " 37  department                     object  \n",
      "dtypes: category(1), float64(4), int64(14), object(19)\n",
      "memory usage: 6.9+ GB\n"
     ]
    }
   ],
   "source": [
    "Normal_activity_customer.info()"
   ]
  },
  {
   "cell_type": "code",
   "execution_count": 35,
   "id": "5ffe9a03",
   "metadata": {},
   "outputs": [],
   "source": [
    "Normal_activity_customer.to_pickle(os.path.join('C:\\\\Users\\\\bukola\\\\Desktop\\\\Lanre Comp\\\\Documents\\\\CF\\\\Instacart Basket Analysis', '02 Data' , 'Normal_customer_final.pkl'))"
   ]
  }
 ],
 "metadata": {
  "kernelspec": {
   "display_name": "Python 3 (ipykernel)",
   "language": "python",
   "name": "python3"
  },
  "language_info": {
   "codemirror_mode": {
    "name": "ipython",
    "version": 3
   },
   "file_extension": ".py",
   "mimetype": "text/x-python",
   "name": "python",
   "nbconvert_exporter": "python",
   "pygments_lexer": "ipython3",
   "version": "3.11.4"
  }
 },
 "nbformat": 4,
 "nbformat_minor": 5
}
