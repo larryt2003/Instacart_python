{
 "cells": [
  {
   "cell_type": "markdown",
   "id": "c85a9a64",
   "metadata": {},
   "source": [
    "#01.Importing Libraries"
   ]
  },
  {
   "cell_type": "code",
   "execution_count": 2,
   "id": "6967ea83",
   "metadata": {},
   "outputs": [],
   "source": [
    "#Importing Libraries\n",
    "import pandas as pd\n",
    "import numpy as np\n",
    "import os"
   ]
  },
  {
   "cell_type": "code",
   "execution_count": 14,
   "id": "0d249825",
   "metadata": {},
   "outputs": [],
   "source": [
    "a = 65"
   ]
  },
  {
   "cell_type": "code",
   "execution_count": 15,
   "id": "b0ced39b",
   "metadata": {},
   "outputs": [],
   "source": [
    "b = 35"
   ]
  },
  {
   "cell_type": "code",
   "execution_count": 17,
   "id": "e9c24ab5",
   "metadata": {},
   "outputs": [
    {
     "data": {
      "text/plain": [
       "100"
      ]
     },
     "execution_count": 17,
     "metadata": {},
     "output_type": "execute_result"
    }
   ],
   "source": [
    "a + b"
   ]
  },
  {
   "cell_type": "code",
   "execution_count": 18,
   "id": "059438ab",
   "metadata": {},
   "outputs": [],
   "source": [
    "c = 8"
   ]
  },
  {
   "cell_type": "code",
   "execution_count": 19,
   "id": "5976f789",
   "metadata": {},
   "outputs": [],
   "source": [
    "d = 2"
   ]
  },
  {
   "cell_type": "code",
   "execution_count": 20,
   "id": "be162046",
   "metadata": {},
   "outputs": [
    {
     "data": {
      "text/plain": [
       "4.0"
      ]
     },
     "execution_count": 20,
     "metadata": {},
     "output_type": "execute_result"
    }
   ],
   "source": [
    "c/d"
   ]
  },
  {
   "cell_type": "code",
   "execution_count": 22,
   "id": "d69546e1",
   "metadata": {},
   "outputs": [],
   "source": [
    "e = 'Good'"
   ]
  },
  {
   "cell_type": "code",
   "execution_count": 23,
   "id": "c8204c65",
   "metadata": {},
   "outputs": [],
   "source": [
    "f = 'Friday'"
   ]
  },
  {
   "cell_type": "code",
   "execution_count": 26,
   "id": "23cbe131",
   "metadata": {},
   "outputs": [
    {
     "data": {
      "text/plain": [
       "'GoodFriday'"
      ]
     },
     "execution_count": 26,
     "metadata": {},
     "output_type": "execute_result"
    }
   ],
   "source": [
    "e+f"
   ]
  },
  {
   "cell_type": "code",
   "execution_count": 27,
   "id": "d7343983",
   "metadata": {},
   "outputs": [],
   "source": [
    "g = 'Ola, needs to '"
   ]
  },
  {
   "cell_type": "code",
   "execution_count": 31,
   "id": "8aa94bcf",
   "metadata": {},
   "outputs": [],
   "source": [
    "h = ' concentrate more on this exercise'"
   ]
  },
  {
   "cell_type": "code",
   "execution_count": 35,
   "id": "64b801ca",
   "metadata": {},
   "outputs": [
    {
     "data": {
      "text/plain": [
       "'Ola, need toconcentrate more on this exercise'"
      ]
     },
     "execution_count": 35,
     "metadata": {},
     "output_type": "execute_result"
    }
   ],
   "source": [
    "g +  h"
   ]
  },
  {
   "cell_type": "code",
   "execution_count": 39,
   "id": "cb3d6f00",
   "metadata": {},
   "outputs": [
    {
     "data": {
      "text/plain": [
       "100"
      ]
     },
     "execution_count": 39,
     "metadata": {},
     "output_type": "execute_result"
    }
   ],
   "source": [
    "a * 2 - 30"
   ]
  },
  {
   "cell_type": "code",
   "execution_count": 40,
   "id": "1fefb97c",
   "metadata": {},
   "outputs": [
    {
     "data": {
      "text/plain": [
       "32.5"
      ]
     },
     "execution_count": 40,
     "metadata": {},
     "output_type": "execute_result"
    }
   ],
   "source": [
    "a/2"
   ]
  },
  {
   "cell_type": "code",
   "execution_count": 41,
   "id": "8701fcab",
   "metadata": {},
   "outputs": [
    {
     "data": {
      "text/plain": [
       "1.8571428571428572"
      ]
     },
     "execution_count": 41,
     "metadata": {},
     "output_type": "execute_result"
    }
   ],
   "source": [
    "a/b"
   ]
  },
  {
   "cell_type": "code",
   "execution_count": 42,
   "id": "369624e0",
   "metadata": {},
   "outputs": [
    {
     "data": {
      "text/plain": [
       "5.0"
      ]
     },
     "execution_count": 42,
     "metadata": {},
     "output_type": "execute_result"
    }
   ],
   "source": [
    "2.5 / 0.5"
   ]
  },
  {
   "cell_type": "code",
   "execution_count": 43,
   "id": "ee8f4794",
   "metadata": {},
   "outputs": [
    {
     "data": {
      "text/plain": [
       "2.9"
      ]
     },
     "execution_count": 43,
     "metadata": {},
     "output_type": "execute_result"
    }
   ],
   "source": [
    "7.25 / 2.5"
   ]
  },
  {
   "cell_type": "code",
   "execution_count": 46,
   "id": "b83769e9",
   "metadata": {},
   "outputs": [
    {
     "data": {
      "text/plain": [
       "str"
      ]
     },
     "execution_count": 46,
     "metadata": {},
     "output_type": "execute_result"
    }
   ],
   "source": [
    "type(e)"
   ]
  },
  {
   "cell_type": "code",
   "execution_count": null,
   "id": "19ac8958",
   "metadata": {},
   "outputs": [],
   "source": []
  }
 ],
 "metadata": {
  "kernelspec": {
   "display_name": "Python 3 (ipykernel)",
   "language": "python",
   "name": "python3"
  },
  "language_info": {
   "codemirror_mode": {
    "name": "ipython",
    "version": 3
   },
   "file_extension": ".py",
   "mimetype": "text/x-python",
   "name": "python",
   "nbconvert_exporter": "python",
   "pygments_lexer": "ipython3",
   "version": "3.11.4"
  }
 },
 "nbformat": 4,
 "nbformat_minor": 5
}
