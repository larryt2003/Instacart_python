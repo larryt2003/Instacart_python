{
 "cells": [
  {
   "cell_type": "code",
   "execution_count": 1,
   "id": "829ea2ce",
   "metadata": {},
   "outputs": [],
   "source": [
    "#0.1 importing Labraries\n",
    "import pandas as pd\n",
    "import numpy as pn \n",
    "import os\n",
    "import matplotlib.pyplot as plt\n",
    "import seaborn as sns\n",
    "import scipy"
   ]
  },
  {
   "cell_type": "code",
   "execution_count": 2,
   "id": "fab563c6",
   "metadata": {},
   "outputs": [],
   "source": [
    "#impoting ords_prods_customer\n",
    "ords_prods_custom_merged=pd.read_pickle(os.path.join('C:\\\\Users\\\\bukola\\\\Desktop\\\\Lanre Comp\\\\Documents\\\\CF\\Instacart Basket Analysis\\\\02 Data','ords_prods_customer.pkl'))"
   ]
  },
  {
   "cell_type": "code",
   "execution_count": 3,
   "id": "0089efaa",
   "metadata": {},
   "outputs": [
    {
     "data": {
      "text/plain": [
       "(32406041, 33)"
      ]
     },
     "execution_count": 3,
     "metadata": {},
     "output_type": "execute_result"
    }
   ],
   "source": [
    "ords_prods_custom_merged.shape"
   ]
  },
  {
   "cell_type": "code",
   "execution_count": 4,
   "id": "63f22a06",
   "metadata": {},
   "outputs": [
    {
     "name": "stdout",
     "output_type": "stream",
     "text": [
      "<class 'pandas.core.frame.DataFrame'>\n",
      "RangeIndex: 32406041 entries, 0 to 32406040\n",
      "Data columns (total 33 columns):\n",
      " #   Column                         Dtype   \n",
      "---  ------                         -----   \n",
      " 0   order_id                       int64   \n",
      " 1   user_id                        int64   \n",
      " 2   order_number                   int64   \n",
      " 3   orders_day_of_week             int64   \n",
      " 4   order_hour_of_day              int64   \n",
      " 5   days_since_prior_order         float64 \n",
      " 6   product_id                     int64   \n",
      " 7   add_to_cart_order              int64   \n",
      " 8   reordered                      int64   \n",
      " 9   product_name                   object  \n",
      " 10  aisle_id                       int64   \n",
      " 11  department_id                  int64   \n",
      " 12  prices                         float64 \n",
      " 13  _merge                         category\n",
      " 14  price_range_loc                object  \n",
      " 15  Busiest day                    object  \n",
      " 16  Busiest days                   object  \n",
      " 17  busiest_period_of_day          object  \n",
      " 18  max_order                      int64   \n",
      " 19  loyalty_flag                   object  \n",
      " 20  mean_prices                    float64 \n",
      " 21  Spender_flag                   object  \n",
      " 22  median_days_since_prior_order  float64 \n",
      " 23  order_frequency_flag           object  \n",
      " 24  first_name                     object  \n",
      " 25  Sur_name                       object  \n",
      " 26  gender                         object  \n",
      " 27  state                          object  \n",
      " 28  age                            int64   \n",
      " 29  date_joined                    object  \n",
      " 30  num_of_dependants              int64   \n",
      " 31  family_status                  object  \n",
      " 32  income                         int64   \n",
      "dtypes: category(1), float64(4), int64(14), object(14)\n",
      "memory usage: 7.8+ GB\n"
     ]
    }
   ],
   "source": [
    "#The PII data in the data set is the individual first name and surname. I will need to remove it in the new data set as it does not affect any of the outcome of the data\n",
    "ords_prods_custom_merged.info()"
   ]
  },
  {
   "cell_type": "markdown",
   "id": "0ada2eb0",
   "metadata": {},
   "source": [
    "removing first name and sur_name from data set due to security implication PII"
   ]
  },
  {
   "cell_type": "code",
   "execution_count": 5,
   "id": "859a492a",
   "metadata": {},
   "outputs": [],
   "source": [
    "ords_prods_custom = ords_prods_custom_merged.drop(columns = ['first_name','Sur_name'])"
   ]
  },
  {
   "cell_type": "code",
   "execution_count": 6,
   "id": "caa08406",
   "metadata": {},
   "outputs": [
    {
     "data": {
      "text/html": [
       "<div>\n",
       "<style scoped>\n",
       "    .dataframe tbody tr th:only-of-type {\n",
       "        vertical-align: middle;\n",
       "    }\n",
       "\n",
       "    .dataframe tbody tr th {\n",
       "        vertical-align: top;\n",
       "    }\n",
       "\n",
       "    .dataframe thead th {\n",
       "        text-align: right;\n",
       "    }\n",
       "</style>\n",
       "<table border=\"1\" class=\"dataframe\">\n",
       "  <thead>\n",
       "    <tr style=\"text-align: right;\">\n",
       "      <th></th>\n",
       "      <th>order_id</th>\n",
       "      <th>user_id</th>\n",
       "      <th>order_number</th>\n",
       "      <th>orders_day_of_week</th>\n",
       "      <th>order_hour_of_day</th>\n",
       "      <th>days_since_prior_order</th>\n",
       "      <th>product_id</th>\n",
       "      <th>add_to_cart_order</th>\n",
       "      <th>reordered</th>\n",
       "      <th>product_name</th>\n",
       "      <th>...</th>\n",
       "      <th>Spender_flag</th>\n",
       "      <th>median_days_since_prior_order</th>\n",
       "      <th>order_frequency_flag</th>\n",
       "      <th>gender</th>\n",
       "      <th>state</th>\n",
       "      <th>age</th>\n",
       "      <th>date_joined</th>\n",
       "      <th>num_of_dependants</th>\n",
       "      <th>family_status</th>\n",
       "      <th>income</th>\n",
       "    </tr>\n",
       "  </thead>\n",
       "  <tbody>\n",
       "    <tr>\n",
       "      <th>0</th>\n",
       "      <td>2539329</td>\n",
       "      <td>1</td>\n",
       "      <td>1</td>\n",
       "      <td>2</td>\n",
       "      <td>8</td>\n",
       "      <td>NaN</td>\n",
       "      <td>196</td>\n",
       "      <td>1</td>\n",
       "      <td>0</td>\n",
       "      <td>Soda</td>\n",
       "      <td>...</td>\n",
       "      <td>Low spender</td>\n",
       "      <td>20.5</td>\n",
       "      <td>Non-frequent customer</td>\n",
       "      <td>Female</td>\n",
       "      <td>Alabama</td>\n",
       "      <td>31</td>\n",
       "      <td>2/17/2019</td>\n",
       "      <td>3</td>\n",
       "      <td>married</td>\n",
       "      <td>40423</td>\n",
       "    </tr>\n",
       "    <tr>\n",
       "      <th>1</th>\n",
       "      <td>2398795</td>\n",
       "      <td>1</td>\n",
       "      <td>2</td>\n",
       "      <td>3</td>\n",
       "      <td>7</td>\n",
       "      <td>15.0</td>\n",
       "      <td>196</td>\n",
       "      <td>1</td>\n",
       "      <td>1</td>\n",
       "      <td>Soda</td>\n",
       "      <td>...</td>\n",
       "      <td>Low spender</td>\n",
       "      <td>20.5</td>\n",
       "      <td>Non-frequent customer</td>\n",
       "      <td>Female</td>\n",
       "      <td>Alabama</td>\n",
       "      <td>31</td>\n",
       "      <td>2/17/2019</td>\n",
       "      <td>3</td>\n",
       "      <td>married</td>\n",
       "      <td>40423</td>\n",
       "    </tr>\n",
       "    <tr>\n",
       "      <th>2</th>\n",
       "      <td>473747</td>\n",
       "      <td>1</td>\n",
       "      <td>3</td>\n",
       "      <td>3</td>\n",
       "      <td>12</td>\n",
       "      <td>21.0</td>\n",
       "      <td>196</td>\n",
       "      <td>1</td>\n",
       "      <td>1</td>\n",
       "      <td>Soda</td>\n",
       "      <td>...</td>\n",
       "      <td>Low spender</td>\n",
       "      <td>20.5</td>\n",
       "      <td>Non-frequent customer</td>\n",
       "      <td>Female</td>\n",
       "      <td>Alabama</td>\n",
       "      <td>31</td>\n",
       "      <td>2/17/2019</td>\n",
       "      <td>3</td>\n",
       "      <td>married</td>\n",
       "      <td>40423</td>\n",
       "    </tr>\n",
       "    <tr>\n",
       "      <th>3</th>\n",
       "      <td>2254736</td>\n",
       "      <td>1</td>\n",
       "      <td>4</td>\n",
       "      <td>4</td>\n",
       "      <td>7</td>\n",
       "      <td>29.0</td>\n",
       "      <td>196</td>\n",
       "      <td>1</td>\n",
       "      <td>1</td>\n",
       "      <td>Soda</td>\n",
       "      <td>...</td>\n",
       "      <td>Low spender</td>\n",
       "      <td>20.5</td>\n",
       "      <td>Non-frequent customer</td>\n",
       "      <td>Female</td>\n",
       "      <td>Alabama</td>\n",
       "      <td>31</td>\n",
       "      <td>2/17/2019</td>\n",
       "      <td>3</td>\n",
       "      <td>married</td>\n",
       "      <td>40423</td>\n",
       "    </tr>\n",
       "    <tr>\n",
       "      <th>4</th>\n",
       "      <td>431534</td>\n",
       "      <td>1</td>\n",
       "      <td>5</td>\n",
       "      <td>4</td>\n",
       "      <td>15</td>\n",
       "      <td>28.0</td>\n",
       "      <td>196</td>\n",
       "      <td>1</td>\n",
       "      <td>1</td>\n",
       "      <td>Soda</td>\n",
       "      <td>...</td>\n",
       "      <td>Low spender</td>\n",
       "      <td>20.5</td>\n",
       "      <td>Non-frequent customer</td>\n",
       "      <td>Female</td>\n",
       "      <td>Alabama</td>\n",
       "      <td>31</td>\n",
       "      <td>2/17/2019</td>\n",
       "      <td>3</td>\n",
       "      <td>married</td>\n",
       "      <td>40423</td>\n",
       "    </tr>\n",
       "  </tbody>\n",
       "</table>\n",
       "<p>5 rows × 31 columns</p>\n",
       "</div>"
      ],
      "text/plain": [
       "   order_id  user_id  order_number  orders_day_of_week  order_hour_of_day  \\\n",
       "0   2539329        1             1                   2                  8   \n",
       "1   2398795        1             2                   3                  7   \n",
       "2    473747        1             3                   3                 12   \n",
       "3   2254736        1             4                   4                  7   \n",
       "4    431534        1             5                   4                 15   \n",
       "\n",
       "   days_since_prior_order  product_id  add_to_cart_order  reordered  \\\n",
       "0                     NaN         196                  1          0   \n",
       "1                    15.0         196                  1          1   \n",
       "2                    21.0         196                  1          1   \n",
       "3                    29.0         196                  1          1   \n",
       "4                    28.0         196                  1          1   \n",
       "\n",
       "  product_name  ...  Spender_flag  median_days_since_prior_order  \\\n",
       "0         Soda  ...   Low spender                           20.5   \n",
       "1         Soda  ...   Low spender                           20.5   \n",
       "2         Soda  ...   Low spender                           20.5   \n",
       "3         Soda  ...   Low spender                           20.5   \n",
       "4         Soda  ...   Low spender                           20.5   \n",
       "\n",
       "    order_frequency_flag  gender    state age date_joined num_of_dependants  \\\n",
       "0  Non-frequent customer  Female  Alabama  31   2/17/2019                 3   \n",
       "1  Non-frequent customer  Female  Alabama  31   2/17/2019                 3   \n",
       "2  Non-frequent customer  Female  Alabama  31   2/17/2019                 3   \n",
       "3  Non-frequent customer  Female  Alabama  31   2/17/2019                 3   \n",
       "4  Non-frequent customer  Female  Alabama  31   2/17/2019                 3   \n",
       "\n",
       "   family_status income  \n",
       "0        married  40423  \n",
       "1        married  40423  \n",
       "2        married  40423  \n",
       "3        married  40423  \n",
       "4        married  40423  \n",
       "\n",
       "[5 rows x 31 columns]"
      ]
     },
     "execution_count": 6,
     "metadata": {},
     "output_type": "execute_result"
    }
   ],
   "source": [
    "ords_prods_custom.head()"
   ]
  },
  {
   "cell_type": "code",
   "execution_count": 7,
   "id": "5ae6e44c",
   "metadata": {},
   "outputs": [],
   "source": [
    "#regional segmentation of the state\n",
    "Northeast =['Maine', 'New Hampshire', 'Vermont', 'Massachusetts', 'Rhode Island', 'Connecticut', 'New York', 'Pennsylvania', 'New Jersey']\n",
    "Midwest = ['Wisconsin', 'Michigan','Illinois', 'Indiana', 'Ohio', 'North Dakota', 'South Dakota', 'Nebraska', 'Kansas', 'Minnesota', 'Iowa', 'Missouri']\n",
    "South = ['Delaware', 'Maryland', 'District of Columbia', 'Virginia', 'West Virginia', 'North Carolina', 'South Carolina', 'Georgia', 'Florida', 'Kentucky', 'Tennessee', 'Mississippi', 'Alabama', 'Oklahoma', 'Texas', 'Arkansas', 'Louisiana']\n",
    "West = ['Idaho', 'Montana', 'Wyoming', 'Nevada', 'Utah', 'Colorado', 'Arizona', 'New Mexico', 'Alaska', 'Washington', 'Oregon', 'California', 'Hawaii']"
   ]
  },
  {
   "cell_type": "code",
   "execution_count": 8,
   "id": "ed77ede2",
   "metadata": {},
   "outputs": [],
   "source": [
    "#region 1 = Northeast\n",
    "ords_prods_custom.loc[ords_prods_custom['state'] .isin(Northeast), 'region'] = 'Northeast'"
   ]
  },
  {
   "cell_type": "code",
   "execution_count": 9,
   "id": "2101010c",
   "metadata": {},
   "outputs": [],
   "source": [
    "#region 2 = Midwest\n",
    "ords_prods_custom.loc[ords_prods_custom['state'] .isin(Midwest), 'region'] = 'Midwest'"
   ]
  },
  {
   "cell_type": "code",
   "execution_count": 10,
   "id": "1d0d19ba",
   "metadata": {},
   "outputs": [],
   "source": [
    "#region 3 = South\n",
    "ords_prods_custom.loc[ords_prods_custom['state'] .isin(South), 'region'] = 'South'"
   ]
  },
  {
   "cell_type": "code",
   "execution_count": 11,
   "id": "0098f9e7",
   "metadata": {},
   "outputs": [],
   "source": [
    "##region 3 = West\n",
    "ords_prods_custom.loc[ords_prods_custom['state'] .isin(West), 'region'] = 'West'"
   ]
  },
  {
   "cell_type": "code",
   "execution_count": 12,
   "id": "565520cd",
   "metadata": {},
   "outputs": [
    {
     "data": {
      "text/html": [
       "<div>\n",
       "<style scoped>\n",
       "    .dataframe tbody tr th:only-of-type {\n",
       "        vertical-align: middle;\n",
       "    }\n",
       "\n",
       "    .dataframe tbody tr th {\n",
       "        vertical-align: top;\n",
       "    }\n",
       "\n",
       "    .dataframe thead th {\n",
       "        text-align: right;\n",
       "    }\n",
       "</style>\n",
       "<table border=\"1\" class=\"dataframe\">\n",
       "  <thead>\n",
       "    <tr style=\"text-align: right;\">\n",
       "      <th></th>\n",
       "      <th>order_id</th>\n",
       "      <th>user_id</th>\n",
       "      <th>order_number</th>\n",
       "      <th>orders_day_of_week</th>\n",
       "      <th>order_hour_of_day</th>\n",
       "      <th>days_since_prior_order</th>\n",
       "      <th>product_id</th>\n",
       "      <th>add_to_cart_order</th>\n",
       "      <th>reordered</th>\n",
       "      <th>product_name</th>\n",
       "      <th>...</th>\n",
       "      <th>median_days_since_prior_order</th>\n",
       "      <th>order_frequency_flag</th>\n",
       "      <th>gender</th>\n",
       "      <th>state</th>\n",
       "      <th>age</th>\n",
       "      <th>date_joined</th>\n",
       "      <th>num_of_dependants</th>\n",
       "      <th>family_status</th>\n",
       "      <th>income</th>\n",
       "      <th>region</th>\n",
       "    </tr>\n",
       "  </thead>\n",
       "  <tbody>\n",
       "    <tr>\n",
       "      <th>0</th>\n",
       "      <td>2539329</td>\n",
       "      <td>1</td>\n",
       "      <td>1</td>\n",
       "      <td>2</td>\n",
       "      <td>8</td>\n",
       "      <td>NaN</td>\n",
       "      <td>196</td>\n",
       "      <td>1</td>\n",
       "      <td>0</td>\n",
       "      <td>Soda</td>\n",
       "      <td>...</td>\n",
       "      <td>20.5</td>\n",
       "      <td>Non-frequent customer</td>\n",
       "      <td>Female</td>\n",
       "      <td>Alabama</td>\n",
       "      <td>31</td>\n",
       "      <td>2/17/2019</td>\n",
       "      <td>3</td>\n",
       "      <td>married</td>\n",
       "      <td>40423</td>\n",
       "      <td>South</td>\n",
       "    </tr>\n",
       "    <tr>\n",
       "      <th>1</th>\n",
       "      <td>2398795</td>\n",
       "      <td>1</td>\n",
       "      <td>2</td>\n",
       "      <td>3</td>\n",
       "      <td>7</td>\n",
       "      <td>15.0</td>\n",
       "      <td>196</td>\n",
       "      <td>1</td>\n",
       "      <td>1</td>\n",
       "      <td>Soda</td>\n",
       "      <td>...</td>\n",
       "      <td>20.5</td>\n",
       "      <td>Non-frequent customer</td>\n",
       "      <td>Female</td>\n",
       "      <td>Alabama</td>\n",
       "      <td>31</td>\n",
       "      <td>2/17/2019</td>\n",
       "      <td>3</td>\n",
       "      <td>married</td>\n",
       "      <td>40423</td>\n",
       "      <td>South</td>\n",
       "    </tr>\n",
       "    <tr>\n",
       "      <th>2</th>\n",
       "      <td>473747</td>\n",
       "      <td>1</td>\n",
       "      <td>3</td>\n",
       "      <td>3</td>\n",
       "      <td>12</td>\n",
       "      <td>21.0</td>\n",
       "      <td>196</td>\n",
       "      <td>1</td>\n",
       "      <td>1</td>\n",
       "      <td>Soda</td>\n",
       "      <td>...</td>\n",
       "      <td>20.5</td>\n",
       "      <td>Non-frequent customer</td>\n",
       "      <td>Female</td>\n",
       "      <td>Alabama</td>\n",
       "      <td>31</td>\n",
       "      <td>2/17/2019</td>\n",
       "      <td>3</td>\n",
       "      <td>married</td>\n",
       "      <td>40423</td>\n",
       "      <td>South</td>\n",
       "    </tr>\n",
       "    <tr>\n",
       "      <th>3</th>\n",
       "      <td>2254736</td>\n",
       "      <td>1</td>\n",
       "      <td>4</td>\n",
       "      <td>4</td>\n",
       "      <td>7</td>\n",
       "      <td>29.0</td>\n",
       "      <td>196</td>\n",
       "      <td>1</td>\n",
       "      <td>1</td>\n",
       "      <td>Soda</td>\n",
       "      <td>...</td>\n",
       "      <td>20.5</td>\n",
       "      <td>Non-frequent customer</td>\n",
       "      <td>Female</td>\n",
       "      <td>Alabama</td>\n",
       "      <td>31</td>\n",
       "      <td>2/17/2019</td>\n",
       "      <td>3</td>\n",
       "      <td>married</td>\n",
       "      <td>40423</td>\n",
       "      <td>South</td>\n",
       "    </tr>\n",
       "    <tr>\n",
       "      <th>4</th>\n",
       "      <td>431534</td>\n",
       "      <td>1</td>\n",
       "      <td>5</td>\n",
       "      <td>4</td>\n",
       "      <td>15</td>\n",
       "      <td>28.0</td>\n",
       "      <td>196</td>\n",
       "      <td>1</td>\n",
       "      <td>1</td>\n",
       "      <td>Soda</td>\n",
       "      <td>...</td>\n",
       "      <td>20.5</td>\n",
       "      <td>Non-frequent customer</td>\n",
       "      <td>Female</td>\n",
       "      <td>Alabama</td>\n",
       "      <td>31</td>\n",
       "      <td>2/17/2019</td>\n",
       "      <td>3</td>\n",
       "      <td>married</td>\n",
       "      <td>40423</td>\n",
       "      <td>South</td>\n",
       "    </tr>\n",
       "  </tbody>\n",
       "</table>\n",
       "<p>5 rows × 32 columns</p>\n",
       "</div>"
      ],
      "text/plain": [
       "   order_id  user_id  order_number  orders_day_of_week  order_hour_of_day  \\\n",
       "0   2539329        1             1                   2                  8   \n",
       "1   2398795        1             2                   3                  7   \n",
       "2    473747        1             3                   3                 12   \n",
       "3   2254736        1             4                   4                  7   \n",
       "4    431534        1             5                   4                 15   \n",
       "\n",
       "   days_since_prior_order  product_id  add_to_cart_order  reordered  \\\n",
       "0                     NaN         196                  1          0   \n",
       "1                    15.0         196                  1          1   \n",
       "2                    21.0         196                  1          1   \n",
       "3                    29.0         196                  1          1   \n",
       "4                    28.0         196                  1          1   \n",
       "\n",
       "  product_name  ...  median_days_since_prior_order   order_frequency_flag  \\\n",
       "0         Soda  ...                           20.5  Non-frequent customer   \n",
       "1         Soda  ...                           20.5  Non-frequent customer   \n",
       "2         Soda  ...                           20.5  Non-frequent customer   \n",
       "3         Soda  ...                           20.5  Non-frequent customer   \n",
       "4         Soda  ...                           20.5  Non-frequent customer   \n",
       "\n",
       "   gender    state age date_joined num_of_dependants family_status  income  \\\n",
       "0  Female  Alabama  31   2/17/2019                 3       married   40423   \n",
       "1  Female  Alabama  31   2/17/2019                 3       married   40423   \n",
       "2  Female  Alabama  31   2/17/2019                 3       married   40423   \n",
       "3  Female  Alabama  31   2/17/2019                 3       married   40423   \n",
       "4  Female  Alabama  31   2/17/2019                 3       married   40423   \n",
       "\n",
       "  region  \n",
       "0  South  \n",
       "1  South  \n",
       "2  South  \n",
       "3  South  \n",
       "4  South  \n",
       "\n",
       "[5 rows x 32 columns]"
      ]
     },
     "execution_count": 12,
     "metadata": {},
     "output_type": "execute_result"
    }
   ],
   "source": [
    "ords_prods_custom.head()"
   ]
  },
  {
   "cell_type": "code",
   "execution_count": 13,
   "id": "640891f2",
   "metadata": {},
   "outputs": [
    {
     "data": {
      "text/plain": [
       "region\n",
       "South        10792300\n",
       "West          8293217\n",
       "Midwest       7597585\n",
       "Northeast     5722939\n",
       "Name: count, dtype: int64"
      ]
     },
     "execution_count": 13,
     "metadata": {},
     "output_type": "execute_result"
    }
   ],
   "source": [
    "#region count \n",
    "ords_prods_custom['region'].value_counts(dropna=False)"
   ]
  },
  {
   "cell_type": "code",
   "execution_count": 14,
   "id": "8beb0e1b",
   "metadata": {},
   "outputs": [],
   "source": [
    "# spending habits between the different U.S. regions\n",
    "crosstab = pd.crosstab(ords_prods_custom['Spender_flag'], ords_prods_custom['region'], dropna = False)"
   ]
  },
  {
   "cell_type": "code",
   "execution_count": 15,
   "id": "ee29048f",
   "metadata": {},
   "outputs": [
    {
     "data": {
      "text/html": [
       "<div>\n",
       "<style scoped>\n",
       "    .dataframe tbody tr th:only-of-type {\n",
       "        vertical-align: middle;\n",
       "    }\n",
       "\n",
       "    .dataframe tbody tr th {\n",
       "        vertical-align: top;\n",
       "    }\n",
       "\n",
       "    .dataframe thead th {\n",
       "        text-align: right;\n",
       "    }\n",
       "</style>\n",
       "<table border=\"1\" class=\"dataframe\">\n",
       "  <thead>\n",
       "    <tr style=\"text-align: right;\">\n",
       "      <th>region</th>\n",
       "      <th>Midwest</th>\n",
       "      <th>Northeast</th>\n",
       "      <th>South</th>\n",
       "      <th>West</th>\n",
       "    </tr>\n",
       "    <tr>\n",
       "      <th>Spender_flag</th>\n",
       "      <th></th>\n",
       "      <th></th>\n",
       "      <th></th>\n",
       "      <th></th>\n",
       "    </tr>\n",
       "  </thead>\n",
       "  <tbody>\n",
       "    <tr>\n",
       "      <th>Higher spender</th>\n",
       "      <td>155979</td>\n",
       "      <td>108226</td>\n",
       "      <td>209693</td>\n",
       "      <td>160354</td>\n",
       "    </tr>\n",
       "    <tr>\n",
       "      <th>Low spender</th>\n",
       "      <td>7441606</td>\n",
       "      <td>5614713</td>\n",
       "      <td>10582607</td>\n",
       "      <td>8132863</td>\n",
       "    </tr>\n",
       "  </tbody>\n",
       "</table>\n",
       "</div>"
      ],
      "text/plain": [
       "region          Midwest  Northeast     South     West\n",
       "Spender_flag                                         \n",
       "Higher spender   155979     108226    209693   160354\n",
       "Low spender     7441606    5614713  10582607  8132863"
      ]
     },
     "execution_count": 15,
     "metadata": {},
     "output_type": "execute_result"
    }
   ],
   "source": [
    "crosstab.head()"
   ]
  },
  {
   "cell_type": "markdown",
   "id": "66423f80",
   "metadata": {},
   "source": [
    "#The count spending habit is in the following proportion for high and low spender in the region Midwest 23%, north-west 18%, south 33% and west 26%. 98% of the count constitute low-spender while 2% are of high-spender across all regions. This shows that there is no difference in their spending manner"
   ]
  },
  {
   "cell_type": "code",
   "execution_count": 44,
   "id": "811ed674",
   "metadata": {},
   "outputs": [],
   "source": [
    "# Create an exclusion flag\n",
    "ords_prods_custom.loc[ords_prods_custom['order_number'] < 5, 'exclusion_flag'] = 'low_activity_customer'\n",
    "ords_prods_custom.loc[ords_prods_custom['order_number'] >= 5, 'exclusion_flag'] = 'Normal_activity_customer'"
   ]
  },
  {
   "cell_type": "code",
   "execution_count": 45,
   "id": "88dc3b6d",
   "metadata": {},
   "outputs": [
    {
     "data": {
      "text/plain": [
       "(32406041, 33)"
      ]
     },
     "execution_count": 45,
     "metadata": {},
     "output_type": "execute_result"
    }
   ],
   "source": [
    "ords_prods_custom.shape"
   ]
  },
  {
   "cell_type": "code",
   "execution_count": 47,
   "id": "96aadc1a",
   "metadata": {},
   "outputs": [],
   "source": [
    "Normal_activity_customer =  ords_prods_custom[ords_prods_custom['exclusion_flag'] =='Normal_activity_customer']"
   ]
  },
  {
   "cell_type": "code",
   "execution_count": 48,
   "id": "590be447",
   "metadata": {},
   "outputs": [
    {
     "data": {
      "text/plain": [
       "(24415721, 33)"
      ]
     },
     "execution_count": 48,
     "metadata": {},
     "output_type": "execute_result"
    }
   ],
   "source": [
    "Normal_activity_customer.shape"
   ]
  },
  {
   "cell_type": "code",
   "execution_count": 49,
   "id": "3addadce",
   "metadata": {},
   "outputs": [],
   "source": [
    "#low_activity_customer\n",
    "low_activity_customer =  ords_prods_custom[ords_prods_custom['exclusion_flag'] =='low_activity_customer']"
   ]
  },
  {
   "cell_type": "code",
   "execution_count": 50,
   "id": "36fdff84",
   "metadata": {},
   "outputs": [
    {
     "data": {
      "text/plain": [
       "(7990320, 33)"
      ]
     },
     "execution_count": 50,
     "metadata": {},
     "output_type": "execute_result"
    }
   ],
   "source": [
    "low_activity_customer.shape"
   ]
  },
  {
   "cell_type": "code",
   "execution_count": 53,
   "id": "dfaa4d03",
   "metadata": {},
   "outputs": [],
   "source": [
    "low_activity_customer.to_pickle(os.path.join('C:\\\\Users\\\\bukola\\\\Desktop\\\\Lanre Comp\\\\Documents\\\\CF\\Instacart Basket Analysis\\\\02 Data','low_activity_customer.pkl'))"
   ]
  },
  {
   "cell_type": "code",
   "execution_count": 54,
   "id": "c80789be",
   "metadata": {},
   "outputs": [],
   "source": [
    "Normal_activity_customer.to_pickle(os.path.join('C:\\\\Users\\\\bukola\\\\Desktop\\\\Lanre Comp\\\\Documents\\\\CF\\Instacart Basket Analysis\\\\02 Data','Normal_activity_customer.pkl'))"
   ]
  },
  {
   "cell_type": "code",
   "execution_count": null,
   "id": "9410274e",
   "metadata": {},
   "outputs": [],
   "source": []
  }
 ],
 "metadata": {
  "kernelspec": {
   "display_name": "Python 3 (ipykernel)",
   "language": "python",
   "name": "python3"
  },
  "language_info": {
   "codemirror_mode": {
    "name": "ipython",
    "version": 3
   },
   "file_extension": ".py",
   "mimetype": "text/x-python",
   "name": "python",
   "nbconvert_exporter": "python",
   "pygments_lexer": "ipython3",
   "version": "3.11.4"
  }
 },
 "nbformat": 4,
 "nbformat_minor": 5
}
